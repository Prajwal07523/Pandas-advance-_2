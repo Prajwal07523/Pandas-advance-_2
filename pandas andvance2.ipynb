{
 "cells": [
  {
   "cell_type": "code",
   "execution_count": 2,
   "id": "602d2399-3bde-4e9e-a89e-8d0659c0def9",
   "metadata": {},
   "outputs": [],
   "source": [
    "#Consider following code to answer further questions:\n",
    "import pandas as pd\n",
    "course_name = ['Data Science', 'Machine Learning', 'Big Data', 'Data Engineer']\n",
    "duration = [2,3,6,4]\n",
    "df = pd.DataFrame(data = {'course_name' : course_name, 'duration' : duration})"
   ]
  },
  {
   "cell_type": "code",
   "execution_count": 3,
   "id": "84588c61-3c9a-45f2-adac-f3d068c370a7",
   "metadata": {},
   "outputs": [],
   "source": [
    "#Q1. Write a code to print the data present in the second row of the dataframe, df."
   ]
  },
  {
   "cell_type": "code",
   "execution_count": 24,
   "id": "3510cb8c-fe2f-42fe-8a2b-afa49b4b7904",
   "metadata": {},
   "outputs": [
    {
     "data": {
      "text/plain": [
       "course_name    Machine Learning\n",
       "duration                      3\n",
       "Name: 1, dtype: object"
      ]
     },
     "execution_count": 24,
     "metadata": {},
     "output_type": "execute_result"
    }
   ],
   "source": [
    "df.iloc[1]    "
   ]
  },
  {
   "cell_type": "code",
   "execution_count": 25,
   "id": "27f65995-af54-4be0-9abf-cb4d5ecea7e7",
   "metadata": {},
   "outputs": [],
   "source": [
    "#Q2. What is the difference between the functions loc and iloc in pandas.DataFrame?"
   ]
  },
  {
   "cell_type": "code",
   "execution_count": 26,
   "id": "79dd7016-8cfc-4ee0-8a3c-bc4e80d03ee9",
   "metadata": {},
   "outputs": [
    {
     "data": {
      "text/html": [
       "<div>\n",
       "<style scoped>\n",
       "    .dataframe tbody tr th:only-of-type {\n",
       "        vertical-align: middle;\n",
       "    }\n",
       "\n",
       "    .dataframe tbody tr th {\n",
       "        vertical-align: top;\n",
       "    }\n",
       "\n",
       "    .dataframe thead th {\n",
       "        text-align: right;\n",
       "    }\n",
       "</style>\n",
       "<table border=\"1\" class=\"dataframe\">\n",
       "  <thead>\n",
       "    <tr style=\"text-align: right;\">\n",
       "      <th></th>\n",
       "      <th>course_name</th>\n",
       "      <th>duration</th>\n",
       "    </tr>\n",
       "  </thead>\n",
       "  <tbody>\n",
       "    <tr>\n",
       "      <th>1</th>\n",
       "      <td>Machine Learning</td>\n",
       "      <td>3</td>\n",
       "    </tr>\n",
       "  </tbody>\n",
       "</table>\n",
       "</div>"
      ],
      "text/plain": [
       "        course_name  duration\n",
       "1  Machine Learning         3"
      ]
     },
     "execution_count": 26,
     "metadata": {},
     "output_type": "execute_result"
    }
   ],
   "source": [
    "df.iloc[1:2]"
   ]
  },
  {
   "cell_type": "code",
   "execution_count": 27,
   "id": "9abc76c4-a5e7-4814-aaef-2fc0d67735c3",
   "metadata": {},
   "outputs": [
    {
     "data": {
      "text/html": [
       "<div>\n",
       "<style scoped>\n",
       "    .dataframe tbody tr th:only-of-type {\n",
       "        vertical-align: middle;\n",
       "    }\n",
       "\n",
       "    .dataframe tbody tr th {\n",
       "        vertical-align: top;\n",
       "    }\n",
       "\n",
       "    .dataframe thead th {\n",
       "        text-align: right;\n",
       "    }\n",
       "</style>\n",
       "<table border=\"1\" class=\"dataframe\">\n",
       "  <thead>\n",
       "    <tr style=\"text-align: right;\">\n",
       "      <th></th>\n",
       "      <th>course_name</th>\n",
       "      <th>duration</th>\n",
       "    </tr>\n",
       "  </thead>\n",
       "  <tbody>\n",
       "    <tr>\n",
       "      <th>1</th>\n",
       "      <td>Machine Learning</td>\n",
       "      <td>3</td>\n",
       "    </tr>\n",
       "    <tr>\n",
       "      <th>2</th>\n",
       "      <td>Big Data</td>\n",
       "      <td>6</td>\n",
       "    </tr>\n",
       "  </tbody>\n",
       "</table>\n",
       "</div>"
      ],
      "text/plain": [
       "        course_name  duration\n",
       "1  Machine Learning         3\n",
       "2          Big Data         6"
      ]
     },
     "execution_count": 27,
     "metadata": {},
     "output_type": "execute_result"
    }
   ],
   "source": [
    "df.loc[1:2]"
   ]
  },
  {
   "cell_type": "code",
   "execution_count": 28,
   "id": "5f8ebb40-a287-4dcd-b667-a9a1031fc866",
   "metadata": {},
   "outputs": [],
   "source": [
    "#iloc doesnot prints the end element of the defined function where loc prints the end element"
   ]
  },
  {
   "cell_type": "code",
   "execution_count": 29,
   "id": "b375091d-8c82-457f-9344-cbd0653fcf44",
   "metadata": {},
   "outputs": [],
   "source": [
    "#Q3. Reindex the given dataframe using a variable, reindex = [3,0,1,2] and store it in the variable, new_df\n",
    " #    then find the output for both new_df.loc[2] and new_df.iloc[2].\n",
    "    # Did you observe any difference in both the outputs? If so then explain it."
   ]
  },
  {
   "cell_type": "code",
   "execution_count": 32,
   "id": "512da26a-5dda-4209-b2b1-d3fa7b906df6",
   "metadata": {},
   "outputs": [],
   "source": [
    "new_df=df.reindex([3,0,1,2])"
   ]
  },
  {
   "cell_type": "code",
   "execution_count": 33,
   "id": "8da06aab-2def-4e0a-bb1c-8a61beddbb74",
   "metadata": {},
   "outputs": [
    {
     "data": {
      "text/html": [
       "<div>\n",
       "<style scoped>\n",
       "    .dataframe tbody tr th:only-of-type {\n",
       "        vertical-align: middle;\n",
       "    }\n",
       "\n",
       "    .dataframe tbody tr th {\n",
       "        vertical-align: top;\n",
       "    }\n",
       "\n",
       "    .dataframe thead th {\n",
       "        text-align: right;\n",
       "    }\n",
       "</style>\n",
       "<table border=\"1\" class=\"dataframe\">\n",
       "  <thead>\n",
       "    <tr style=\"text-align: right;\">\n",
       "      <th></th>\n",
       "      <th>course_name</th>\n",
       "      <th>duration</th>\n",
       "    </tr>\n",
       "  </thead>\n",
       "  <tbody>\n",
       "    <tr>\n",
       "      <th>3</th>\n",
       "      <td>Data Engineer</td>\n",
       "      <td>4</td>\n",
       "    </tr>\n",
       "    <tr>\n",
       "      <th>0</th>\n",
       "      <td>Data Science</td>\n",
       "      <td>2</td>\n",
       "    </tr>\n",
       "    <tr>\n",
       "      <th>1</th>\n",
       "      <td>Machine Learning</td>\n",
       "      <td>3</td>\n",
       "    </tr>\n",
       "    <tr>\n",
       "      <th>2</th>\n",
       "      <td>Big Data</td>\n",
       "      <td>6</td>\n",
       "    </tr>\n",
       "  </tbody>\n",
       "</table>\n",
       "</div>"
      ],
      "text/plain": [
       "        course_name  duration\n",
       "3     Data Engineer         4\n",
       "0      Data Science         2\n",
       "1  Machine Learning         3\n",
       "2          Big Data         6"
      ]
     },
     "execution_count": 33,
     "metadata": {},
     "output_type": "execute_result"
    }
   ],
   "source": [
    "new_df"
   ]
  },
  {
   "cell_type": "code",
   "execution_count": 34,
   "id": "8f54113e-8c3e-466d-80c1-b5efd7d88774",
   "metadata": {},
   "outputs": [
    {
     "data": {
      "text/plain": [
       "course_name    Big Data\n",
       "duration              6\n",
       "Name: 2, dtype: object"
      ]
     },
     "execution_count": 34,
     "metadata": {},
     "output_type": "execute_result"
    }
   ],
   "source": [
    "new_df.loc[2]"
   ]
  },
  {
   "cell_type": "code",
   "execution_count": 35,
   "id": "71de1555-c47d-4a84-9a8c-c5eac1a85a61",
   "metadata": {},
   "outputs": [
    {
     "data": {
      "text/plain": [
       "course_name    Machine Learning\n",
       "duration                      3\n",
       "Name: 1, dtype: object"
      ]
     },
     "execution_count": 35,
     "metadata": {},
     "output_type": "execute_result"
    }
   ],
   "source": [
    "new_df.iloc[2]"
   ]
  },
  {
   "cell_type": "code",
   "execution_count": 36,
   "id": "6c3efe5c-1047-4d81-8300-811796b7f996",
   "metadata": {},
   "outputs": [],
   "source": [
    "##iloc does not prints the end element of the defined function where loc prints the end element"
   ]
  },
  {
   "cell_type": "code",
   "execution_count": 60,
   "id": "f0025a61-fd4e-4e7b-96da-aeb684f817b2",
   "metadata": {},
   "outputs": [],
   "source": [
    "#Consider the below code to answer further questions:\n",
    "import pandas as pd\n",
    "import numpy as np\n",
    "columns = ['column_1', 'column_2', 'column_3', 'column_4', 'column_5', 'column_6']\n",
    "indices = [1,2,3,4,5,6]\n",
    "#Creating a dataframe:\n",
    "df1 = pd.DataFrame(np.random.rand(6,6), columns = columns, index = indices)"
   ]
  },
  {
   "cell_type": "code",
   "execution_count": 61,
   "id": "3ed5271e-d4f4-45fa-8e23-eb2606e70d4d",
   "metadata": {},
   "outputs": [],
   "source": [
    "#Q4. Write a code to find the following statistical measurements for the above dataframe df1:\n",
    "#  (i) mean of each and every column present in the dataframe.\n",
    "#  (ii) standard deviation of column, ‘column_2’"
   ]
  },
  {
   "cell_type": "code",
   "execution_count": 62,
   "id": "89645595-f346-4aeb-b799-d83be175b2bc",
   "metadata": {},
   "outputs": [
    {
     "data": {
      "text/html": [
       "<div>\n",
       "<style scoped>\n",
       "    .dataframe tbody tr th:only-of-type {\n",
       "        vertical-align: middle;\n",
       "    }\n",
       "\n",
       "    .dataframe tbody tr th {\n",
       "        vertical-align: top;\n",
       "    }\n",
       "\n",
       "    .dataframe thead th {\n",
       "        text-align: right;\n",
       "    }\n",
       "</style>\n",
       "<table border=\"1\" class=\"dataframe\">\n",
       "  <thead>\n",
       "    <tr style=\"text-align: right;\">\n",
       "      <th></th>\n",
       "      <th>column_1</th>\n",
       "      <th>column_2</th>\n",
       "      <th>column_3</th>\n",
       "      <th>column_4</th>\n",
       "      <th>column_5</th>\n",
       "      <th>column_6</th>\n",
       "    </tr>\n",
       "  </thead>\n",
       "  <tbody>\n",
       "    <tr>\n",
       "      <th>1</th>\n",
       "      <td>0.400445</td>\n",
       "      <td>0.474249</td>\n",
       "      <td>0.709532</td>\n",
       "      <td>0.648615</td>\n",
       "      <td>0.518080</td>\n",
       "      <td>0.800114</td>\n",
       "    </tr>\n",
       "    <tr>\n",
       "      <th>2</th>\n",
       "      <td>0.542201</td>\n",
       "      <td>0.996136</td>\n",
       "      <td>0.624293</td>\n",
       "      <td>0.014966</td>\n",
       "      <td>0.398583</td>\n",
       "      <td>0.653462</td>\n",
       "    </tr>\n",
       "    <tr>\n",
       "      <th>3</th>\n",
       "      <td>0.248713</td>\n",
       "      <td>0.941300</td>\n",
       "      <td>0.672123</td>\n",
       "      <td>0.077932</td>\n",
       "      <td>0.967963</td>\n",
       "      <td>0.001804</td>\n",
       "    </tr>\n",
       "    <tr>\n",
       "      <th>4</th>\n",
       "      <td>0.027121</td>\n",
       "      <td>0.180649</td>\n",
       "      <td>0.795474</td>\n",
       "      <td>0.186229</td>\n",
       "      <td>0.903576</td>\n",
       "      <td>0.900560</td>\n",
       "    </tr>\n",
       "    <tr>\n",
       "      <th>5</th>\n",
       "      <td>0.589703</td>\n",
       "      <td>0.347968</td>\n",
       "      <td>0.510244</td>\n",
       "      <td>0.838308</td>\n",
       "      <td>0.365715</td>\n",
       "      <td>0.593156</td>\n",
       "    </tr>\n",
       "    <tr>\n",
       "      <th>6</th>\n",
       "      <td>0.431553</td>\n",
       "      <td>0.991686</td>\n",
       "      <td>0.466226</td>\n",
       "      <td>0.164692</td>\n",
       "      <td>0.062782</td>\n",
       "      <td>0.357641</td>\n",
       "    </tr>\n",
       "  </tbody>\n",
       "</table>\n",
       "</div>"
      ],
      "text/plain": [
       "   column_1  column_2  column_3  column_4  column_5  column_6\n",
       "1  0.400445  0.474249  0.709532  0.648615  0.518080  0.800114\n",
       "2  0.542201  0.996136  0.624293  0.014966  0.398583  0.653462\n",
       "3  0.248713  0.941300  0.672123  0.077932  0.967963  0.001804\n",
       "4  0.027121  0.180649  0.795474  0.186229  0.903576  0.900560\n",
       "5  0.589703  0.347968  0.510244  0.838308  0.365715  0.593156\n",
       "6  0.431553  0.991686  0.466226  0.164692  0.062782  0.357641"
      ]
     },
     "execution_count": 62,
     "metadata": {},
     "output_type": "execute_result"
    }
   ],
   "source": [
    "df1"
   ]
  },
  {
   "cell_type": "code",
   "execution_count": 63,
   "id": "c4a9e569-32e3-41f1-b484-48c5cc7cfda3",
   "metadata": {},
   "outputs": [
    {
     "name": "stdout",
     "output_type": "stream",
     "text": [
      "0.3732894084005028\n",
      "0.6553314159731842\n",
      "0.629648697168297\n",
      "0.3217903147583951\n",
      "0.5361166710009869\n",
      "0.5511227847131754\n"
     ]
    }
   ],
   "source": [
    "for i in columns:\n",
    "    print(df1[i].mean())"
   ]
  },
  {
   "cell_type": "code",
   "execution_count": 64,
   "id": "206b1863-8c87-4cfe-93f6-7ca315f6659b",
   "metadata": {},
   "outputs": [
    {
     "data": {
      "text/plain": [
       "0.36432020359898554"
      ]
     },
     "execution_count": 64,
     "metadata": {},
     "output_type": "execute_result"
    }
   ],
   "source": [
    "df1['column_2'].std()"
   ]
  },
  {
   "cell_type": "code",
   "execution_count": 65,
   "id": "c66c8429-a9e9-4e03-a403-df57fb040c6e",
   "metadata": {},
   "outputs": [],
   "source": [
    "#Q5. Replace the data present in the second row of column, ‘column_2’ by a string variable then find the\n",
    " # mean of column, column_2.\n",
    " # If you are getting errors in executing it then explain why.\n",
    " # [Hint: To replace the data use df1.loc[] and equate this to string data of your choice.]"
   ]
  },
  {
   "cell_type": "code",
   "execution_count": 66,
   "id": "4a04c4fb-df5c-47a7-b87f-68cd0f5c9519",
   "metadata": {},
   "outputs": [],
   "source": [
    "df1.loc[2,'column_2']='CSK'"
   ]
  },
  {
   "cell_type": "code",
   "execution_count": 67,
   "id": "89e06c94-725a-44b7-8527-055754c9ca3d",
   "metadata": {},
   "outputs": [
    {
     "data": {
      "text/html": [
       "<div>\n",
       "<style scoped>\n",
       "    .dataframe tbody tr th:only-of-type {\n",
       "        vertical-align: middle;\n",
       "    }\n",
       "\n",
       "    .dataframe tbody tr th {\n",
       "        vertical-align: top;\n",
       "    }\n",
       "\n",
       "    .dataframe thead th {\n",
       "        text-align: right;\n",
       "    }\n",
       "</style>\n",
       "<table border=\"1\" class=\"dataframe\">\n",
       "  <thead>\n",
       "    <tr style=\"text-align: right;\">\n",
       "      <th></th>\n",
       "      <th>column_1</th>\n",
       "      <th>column_2</th>\n",
       "      <th>column_3</th>\n",
       "      <th>column_4</th>\n",
       "      <th>column_5</th>\n",
       "      <th>column_6</th>\n",
       "    </tr>\n",
       "  </thead>\n",
       "  <tbody>\n",
       "    <tr>\n",
       "      <th>1</th>\n",
       "      <td>0.400445</td>\n",
       "      <td>0.474249</td>\n",
       "      <td>0.709532</td>\n",
       "      <td>0.648615</td>\n",
       "      <td>0.518080</td>\n",
       "      <td>0.800114</td>\n",
       "    </tr>\n",
       "    <tr>\n",
       "      <th>2</th>\n",
       "      <td>0.542201</td>\n",
       "      <td>CSK</td>\n",
       "      <td>0.624293</td>\n",
       "      <td>0.014966</td>\n",
       "      <td>0.398583</td>\n",
       "      <td>0.653462</td>\n",
       "    </tr>\n",
       "    <tr>\n",
       "      <th>3</th>\n",
       "      <td>0.248713</td>\n",
       "      <td>0.9413</td>\n",
       "      <td>0.672123</td>\n",
       "      <td>0.077932</td>\n",
       "      <td>0.967963</td>\n",
       "      <td>0.001804</td>\n",
       "    </tr>\n",
       "    <tr>\n",
       "      <th>4</th>\n",
       "      <td>0.027121</td>\n",
       "      <td>0.180649</td>\n",
       "      <td>0.795474</td>\n",
       "      <td>0.186229</td>\n",
       "      <td>0.903576</td>\n",
       "      <td>0.900560</td>\n",
       "    </tr>\n",
       "    <tr>\n",
       "      <th>5</th>\n",
       "      <td>0.589703</td>\n",
       "      <td>0.347968</td>\n",
       "      <td>0.510244</td>\n",
       "      <td>0.838308</td>\n",
       "      <td>0.365715</td>\n",
       "      <td>0.593156</td>\n",
       "    </tr>\n",
       "    <tr>\n",
       "      <th>6</th>\n",
       "      <td>0.431553</td>\n",
       "      <td>0.991686</td>\n",
       "      <td>0.466226</td>\n",
       "      <td>0.164692</td>\n",
       "      <td>0.062782</td>\n",
       "      <td>0.357641</td>\n",
       "    </tr>\n",
       "  </tbody>\n",
       "</table>\n",
       "</div>"
      ],
      "text/plain": [
       "   column_1  column_2  column_3  column_4  column_5  column_6\n",
       "1  0.400445  0.474249  0.709532  0.648615  0.518080  0.800114\n",
       "2  0.542201       CSK  0.624293  0.014966  0.398583  0.653462\n",
       "3  0.248713    0.9413  0.672123  0.077932  0.967963  0.001804\n",
       "4  0.027121  0.180649  0.795474  0.186229  0.903576  0.900560\n",
       "5  0.589703  0.347968  0.510244  0.838308  0.365715  0.593156\n",
       "6  0.431553  0.991686  0.466226  0.164692  0.062782  0.357641"
      ]
     },
     "execution_count": 67,
     "metadata": {},
     "output_type": "execute_result"
    }
   ],
   "source": [
    "df1"
   ]
  },
  {
   "cell_type": "code",
   "execution_count": 69,
   "id": "228ab72d-145c-4d98-9ba6-debd4f9cac07",
   "metadata": {},
   "outputs": [],
   "source": [
    "#   df1['column_2'].mean()  \n",
    "# errror cannot find yhe mean of the string and the number"
   ]
  },
  {
   "cell_type": "code",
   "execution_count": 70,
   "id": "fe629524-2712-4101-95a6-8016be16b42b",
   "metadata": {},
   "outputs": [],
   "source": [
    "# Q6. What do you understand about the windows function in pandas and list the types of windows functions?"
   ]
  },
  {
   "cell_type": "code",
   "execution_count": null,
   "id": "875500b4-4628-46f0-b97e-8f56ccfae14d",
   "metadata": {},
   "outputs": [],
   "source": []
  },
  {
   "cell_type": "code",
   "execution_count": 71,
   "id": "841aae1a-13d4-43b5-b6aa-9ea550547333",
   "metadata": {},
   "outputs": [],
   "source": [
    "# Q7. Write a code to print only the current month and year at the time of answering this question. [Hint: Use pandas.datetime function]"
   ]
  },
  {
   "cell_type": "code",
   "execution_count": 77,
   "id": "d01d8fad-1357-4c21-b877-5e3bcfeb09c1",
   "metadata": {},
   "outputs": [
    {
     "name": "stdout",
     "output_type": "stream",
     "text": [
      "   column_1  column_2  column_3  column_4  column_5  column_6  \\\n",
      "1  0.400445  0.474249  0.709532  0.648615  0.518080  0.800114   \n",
      "2  0.542201       CSK  0.624293  0.014966  0.398583  0.653462   \n",
      "3  0.248713    0.9413  0.672123  0.077932  0.967963  0.001804   \n",
      "4  0.027121  0.180649  0.795474  0.186229  0.903576  0.900560   \n",
      "5  0.589703  0.347968  0.510244  0.838308  0.365715  0.593156   \n",
      "6  0.431553  0.991686  0.466226  0.164692  0.062782  0.357641   \n",
      "\n",
      "                   date_time  \n",
      "1 2023-02-28 18:13:43.085877  \n",
      "2 2023-02-28 18:13:43.085877  \n",
      "3 2023-02-28 18:13:43.085877  \n",
      "4 2023-02-28 18:13:43.085877  \n",
      "5 2023-02-28 18:13:43.085877  \n",
      "6 2023-02-28 18:13:43.085877  \n"
     ]
    },
    {
     "name": "stderr",
     "output_type": "stream",
     "text": [
      "/tmp/ipykernel_117/2350918845.py:1: FutureWarning: The parsing of 'now' in pd.to_datetime without `utc=True` is deprecated. In a future version, this will match Timestamp('now') and Timestamp.now()\n",
      "  df1['date_time'] = pd.to_datetime('now')\n"
     ]
    }
   ],
   "source": [
    "\n",
    "df1['date_time'] = pd.to_datetime('now')\n",
    "print(df1)"
   ]
  },
  {
   "cell_type": "code",
   "execution_count": 80,
   "id": "7f21b458-d904-47d2-bb9e-1aa7e1e28703",
   "metadata": {},
   "outputs": [],
   "source": [
    "# Q8. Write a Python program that takes in two dates as input (in the format YYYY-MM-DD) and\n",
    "# calculates the difference between them in days, hours, and minutes using Pandas time delta. The\n",
    "  # program should prompt the user to enter the dates and display the result."
   ]
  },
  {
   "cell_type": "code",
   "execution_count": 83,
   "id": "242a2615-5d66-4d43-ba17-f4cefc1c1f05",
   "metadata": {},
   "outputs": [
    {
     "name": "stdin",
     "output_type": "stream",
     "text": [
      "enter the date 2022-02-25\n",
      "enter the date 2023-01-12\n"
     ]
    }
   ],
   "source": [
    "date1=input(\"enter the date\")\n",
    "date2=input(\"enter the date\")"
   ]
  },
  {
   "cell_type": "code",
   "execution_count": 84,
   "id": "7a310f95-5106-413f-a9d3-b99b9dae1f4f",
   "metadata": {},
   "outputs": [],
   "source": [
    "date1 = pd.to_datetime(date1)\n",
    "date2 = pd.to_datetime(date2)"
   ]
  },
  {
   "cell_type": "code",
   "execution_count": 88,
   "id": "0086961b-d9b0-4f83-ba3e-826299238bbd",
   "metadata": {},
   "outputs": [],
   "source": [
    "date1\n",
    "date2\n",
    "delta = date2 - date1"
   ]
  },
  {
   "cell_type": "code",
   "execution_count": 90,
   "id": "b3d1355a-e5b7-423a-94e1-0a43fdcc910c",
   "metadata": {},
   "outputs": [],
   "source": [
    "days = delta.days\n",
    "hours = delta.seconds // 3600\n",
    "minutes = (delta.seconds % 3600) // 60"
   ]
  },
  {
   "cell_type": "code",
   "execution_count": 91,
   "id": "25826e70-192e-4d07-ad1f-7950861b1f5c",
   "metadata": {},
   "outputs": [
    {
     "data": {
      "text/plain": [
       "321"
      ]
     },
     "execution_count": 91,
     "metadata": {},
     "output_type": "execute_result"
    }
   ],
   "source": [
    "days\n"
   ]
  },
  {
   "cell_type": "code",
   "execution_count": 92,
   "id": "f249a6de-65cd-41de-9922-1abd8e71b5e5",
   "metadata": {},
   "outputs": [
    {
     "data": {
      "text/plain": [
       "0"
      ]
     },
     "execution_count": 92,
     "metadata": {},
     "output_type": "execute_result"
    }
   ],
   "source": [
    "hours"
   ]
  },
  {
   "cell_type": "code",
   "execution_count": 93,
   "id": "c97c50b1-30e2-4766-9e41-a8200da6fb82",
   "metadata": {},
   "outputs": [
    {
     "data": {
      "text/plain": [
       "0"
      ]
     },
     "execution_count": 93,
     "metadata": {},
     "output_type": "execute_result"
    }
   ],
   "source": [
    "minutes"
   ]
  },
  {
   "cell_type": "code",
   "execution_count": 94,
   "id": "802dac2e-e8a7-4b24-a004-7122efba375e",
   "metadata": {},
   "outputs": [],
   "source": [
    "# Q9. Write a Python program that reads a CSV file containing categorical data and converts a specified\n",
    "# column to a categorical data type. The program should prompt the user to enter the file path, column\n",
    "# name, and category order, and then display the sorted data."
   ]
  },
  {
   "cell_type": "code",
   "execution_count": 1,
   "id": "b0263291-a27a-4cc5-b213-d135fe376f6d",
   "metadata": {},
   "outputs": [],
   "source": [
    "import pandas as pd\n",
    "df=pd.read_csv(\"https://raw.githubusercontent.com/datasciencedojo/datasets/master/titanic.csv\")"
   ]
  },
  {
   "cell_type": "code",
   "execution_count": 3,
   "id": "078cfc8e-bc02-4a93-aa60-6c5dd70528f0",
   "metadata": {},
   "outputs": [
    {
     "data": {
      "text/plain": [
       "[3, 1, 3, 1, 3, ..., 2, 1, 3, 1, 3]\n",
       "Length: 891\n",
       "Categories (3, int64): [1, 2, 3]"
      ]
     },
     "execution_count": 3,
     "metadata": {},
     "output_type": "execute_result"
    }
   ],
   "source": [
    "pd.Categorical(df['Pclass'])"
   ]
  },
  {
   "cell_type": "code",
   "execution_count": 4,
   "id": "b085f77b-3cbd-4db9-b136-b5314d798315",
   "metadata": {},
   "outputs": [],
   "source": [
    "# Q10. Write a Python program that reads a CSV file containing sales data for different products and\n",
    "# visualizes the data using a stacked bar chart to show the sales of each product category"
   ]
  },
  {
   "cell_type": "code",
   "execution_count": 16,
   "id": "59f259e5-94bc-4d80-833a-bd2b3d2d4bde",
   "metadata": {},
   "outputs": [],
   "source": [
    "data={'vivo':[400,300,200],'oppo':[270,250,230],'samsung':[700,600,560],'oneplus':[500,200,100],'redmi':[850,720,550]}"
   ]
  },
  {
   "cell_type": "code",
   "execution_count": 20,
   "id": "dc52093c-d902-4dd5-b963-db76df5a0dec",
   "metadata": {},
   "outputs": [],
   "source": [
    "df=pd.DataFrame(data,index=[2022,2021,2020])"
   ]
  },
  {
   "cell_type": "code",
   "execution_count": 21,
   "id": "08c442ee-4be7-46f8-8eb7-3b3b19adf42c",
   "metadata": {},
   "outputs": [
    {
     "data": {
      "text/html": [
       "<div>\n",
       "<style scoped>\n",
       "    .dataframe tbody tr th:only-of-type {\n",
       "        vertical-align: middle;\n",
       "    }\n",
       "\n",
       "    .dataframe tbody tr th {\n",
       "        vertical-align: top;\n",
       "    }\n",
       "\n",
       "    .dataframe thead th {\n",
       "        text-align: right;\n",
       "    }\n",
       "</style>\n",
       "<table border=\"1\" class=\"dataframe\">\n",
       "  <thead>\n",
       "    <tr style=\"text-align: right;\">\n",
       "      <th></th>\n",
       "      <th>vivo</th>\n",
       "      <th>oppo</th>\n",
       "      <th>samsung</th>\n",
       "      <th>oneplus</th>\n",
       "      <th>redmi</th>\n",
       "    </tr>\n",
       "  </thead>\n",
       "  <tbody>\n",
       "    <tr>\n",
       "      <th>2022</th>\n",
       "      <td>400</td>\n",
       "      <td>270</td>\n",
       "      <td>700</td>\n",
       "      <td>500</td>\n",
       "      <td>850</td>\n",
       "    </tr>\n",
       "    <tr>\n",
       "      <th>2021</th>\n",
       "      <td>300</td>\n",
       "      <td>250</td>\n",
       "      <td>600</td>\n",
       "      <td>200</td>\n",
       "      <td>720</td>\n",
       "    </tr>\n",
       "    <tr>\n",
       "      <th>2020</th>\n",
       "      <td>200</td>\n",
       "      <td>230</td>\n",
       "      <td>560</td>\n",
       "      <td>100</td>\n",
       "      <td>550</td>\n",
       "    </tr>\n",
       "  </tbody>\n",
       "</table>\n",
       "</div>"
      ],
      "text/plain": [
       "      vivo  oppo  samsung  oneplus  redmi\n",
       "2022   400   270      700      500    850\n",
       "2021   300   250      600      200    720\n",
       "2020   200   230      560      100    550"
      ]
     },
     "execution_count": 21,
     "metadata": {},
     "output_type": "execute_result"
    }
   ],
   "source": [
    "df"
   ]
  },
  {
   "cell_type": "code",
   "execution_count": null,
   "id": "ab8c7217-00d2-4ab0-ace8-47d876ea3216",
   "metadata": {},
   "outputs": [
    {
     "data": {
      "text/plain": [
       "<AxesSubplot: >"
      ]
     },
     "execution_count": 22,
     "metadata": {},
     "output_type": "execute_result"
    },
    {
     "data": {
      "image/png": "[encoded data removed]",
      "text/plain": [
       "<Figure size 640x480 with 1 Axes>"
      ]
     },
     "metadata": {},
     "output_type": "display_data"
    }
   ],
   "source": [
    "df.plot()"
   ]
  },
  {
   "cell_type": "code",
   "execution_count": null,
   "id": "e2c9e04b-88f2-4e45-af0b-606fc6559981",
   "metadata": {},
   "outputs": [],
   "source": []
  },
  {
   "cell_type": "code",
   "execution_count": 51,
   "id": "101f739d-3ca3-4216-ba12-e45df8551e73",
   "metadata": {},
   "outputs": [],
   "source": [
    "df = pd.read_csv('student_data.csv')"
   ]
  },
  {
   "cell_type": "code",
   "execution_count": 52,
   "id": "23d984c5-d464-4aee-88db-07d50a8929c9",
   "metadata": {},
   "outputs": [
    {
     "ename": "KeyError",
     "evalue": "'score'",
     "output_type": "error",
     "traceback": [
      "\u001b[0;31m---------------------------------------------------------------------------\u001b[0m",
      "\u001b[0;31mKeyError\u001b[0m                                  Traceback (most recent call last)",
      "File \u001b[0;32m/opt/conda/lib/python3.10/site-packages/pandas/core/indexes/base.py:3803\u001b[0m, in \u001b[0;36mIndex.get_loc\u001b[0;34m(self, key, method, tolerance)\u001b[0m\n\u001b[1;32m   3802\u001b[0m \u001b[38;5;28;01mtry\u001b[39;00m:\n\u001b[0;32m-> 3803\u001b[0m     \u001b[38;5;28;01mreturn\u001b[39;00m \u001b[38;5;28;43mself\u001b[39;49m\u001b[38;5;241;43m.\u001b[39;49m\u001b[43m_engine\u001b[49m\u001b[38;5;241;43m.\u001b[39;49m\u001b[43mget_loc\u001b[49m\u001b[43m(\u001b[49m\u001b[43mcasted_key\u001b[49m\u001b[43m)\u001b[49m\n\u001b[1;32m   3804\u001b[0m \u001b[38;5;28;01mexcept\u001b[39;00m \u001b[38;5;167;01mKeyError\u001b[39;00m \u001b[38;5;28;01mas\u001b[39;00m err:\n",
      "File \u001b[0;32m/opt/conda/lib/python3.10/site-packages/pandas/_libs/index.pyx:138\u001b[0m, in \u001b[0;36mpandas._libs.index.IndexEngine.get_loc\u001b[0;34m()\u001b[0m\n",
      "File \u001b[0;32m/opt/conda/lib/python3.10/site-packages/pandas/_libs/index.pyx:165\u001b[0m, in \u001b[0;36mpandas._libs.index.IndexEngine.get_loc\u001b[0;34m()\u001b[0m\n",
      "File \u001b[0;32mpandas/_libs/hashtable_class_helper.pxi:5745\u001b[0m, in \u001b[0;36mpandas._libs.hashtable.PyObjectHashTable.get_item\u001b[0;34m()\u001b[0m\n",
      "File \u001b[0;32mpandas/_libs/hashtable_class_helper.pxi:5753\u001b[0m, in \u001b[0;36mpandas._libs.hashtable.PyObjectHashTable.get_item\u001b[0;34m()\u001b[0m\n",
      "\u001b[0;31mKeyError\u001b[0m: 'score'",
      "\nThe above exception was the direct cause of the following exception:\n",
      "\u001b[0;31mKeyError\u001b[0m                                  Traceback (most recent call last)",
      "Cell \u001b[0;32mIn[52], line 1\u001b[0m\n\u001b[0;32m----> 1\u001b[0m \u001b[43mdf\u001b[49m\u001b[43m[\u001b[49m\u001b[38;5;124;43m'\u001b[39;49m\u001b[38;5;124;43mscore\u001b[39;49m\u001b[38;5;124;43m'\u001b[39;49m\u001b[43m]\u001b[49m\u001b[38;5;241m.\u001b[39mmean()\n",
      "File \u001b[0;32m/opt/conda/lib/python3.10/site-packages/pandas/core/frame.py:3805\u001b[0m, in \u001b[0;36mDataFrame.__getitem__\u001b[0;34m(self, key)\u001b[0m\n\u001b[1;32m   3803\u001b[0m \u001b[38;5;28;01mif\u001b[39;00m \u001b[38;5;28mself\u001b[39m\u001b[38;5;241m.\u001b[39mcolumns\u001b[38;5;241m.\u001b[39mnlevels \u001b[38;5;241m>\u001b[39m \u001b[38;5;241m1\u001b[39m:\n\u001b[1;32m   3804\u001b[0m     \u001b[38;5;28;01mreturn\u001b[39;00m \u001b[38;5;28mself\u001b[39m\u001b[38;5;241m.\u001b[39m_getitem_multilevel(key)\n\u001b[0;32m-> 3805\u001b[0m indexer \u001b[38;5;241m=\u001b[39m \u001b[38;5;28;43mself\u001b[39;49m\u001b[38;5;241;43m.\u001b[39;49m\u001b[43mcolumns\u001b[49m\u001b[38;5;241;43m.\u001b[39;49m\u001b[43mget_loc\u001b[49m\u001b[43m(\u001b[49m\u001b[43mkey\u001b[49m\u001b[43m)\u001b[49m\n\u001b[1;32m   3806\u001b[0m \u001b[38;5;28;01mif\u001b[39;00m is_integer(indexer):\n\u001b[1;32m   3807\u001b[0m     indexer \u001b[38;5;241m=\u001b[39m [indexer]\n",
      "File \u001b[0;32m/opt/conda/lib/python3.10/site-packages/pandas/core/indexes/base.py:3805\u001b[0m, in \u001b[0;36mIndex.get_loc\u001b[0;34m(self, key, method, tolerance)\u001b[0m\n\u001b[1;32m   3803\u001b[0m     \u001b[38;5;28;01mreturn\u001b[39;00m \u001b[38;5;28mself\u001b[39m\u001b[38;5;241m.\u001b[39m_engine\u001b[38;5;241m.\u001b[39mget_loc(casted_key)\n\u001b[1;32m   3804\u001b[0m \u001b[38;5;28;01mexcept\u001b[39;00m \u001b[38;5;167;01mKeyError\u001b[39;00m \u001b[38;5;28;01mas\u001b[39;00m err:\n\u001b[0;32m-> 3805\u001b[0m     \u001b[38;5;28;01mraise\u001b[39;00m \u001b[38;5;167;01mKeyError\u001b[39;00m(key) \u001b[38;5;28;01mfrom\u001b[39;00m \u001b[38;5;21;01merr\u001b[39;00m\n\u001b[1;32m   3806\u001b[0m \u001b[38;5;28;01mexcept\u001b[39;00m \u001b[38;5;167;01mTypeError\u001b[39;00m:\n\u001b[1;32m   3807\u001b[0m     \u001b[38;5;66;03m# If we have a listlike key, _check_indexing_error will raise\u001b[39;00m\n\u001b[1;32m   3808\u001b[0m     \u001b[38;5;66;03m#  InvalidIndexError. Otherwise we fall through and re-raise\u001b[39;00m\n\u001b[1;32m   3809\u001b[0m     \u001b[38;5;66;03m#  the TypeError.\u001b[39;00m\n\u001b[1;32m   3810\u001b[0m     \u001b[38;5;28mself\u001b[39m\u001b[38;5;241m.\u001b[39m_check_indexing_error(key)\n",
      "\u001b[0;31mKeyError\u001b[0m: 'score'"
     ]
    }
   ],
   "source": [
    "df['score'].mean()"
   ]
  },
  {
   "cell_type": "code",
   "execution_count": null,
   "id": "7399ca59-62ae-4093-82e7-f52f69bf2663",
   "metadata": {},
   "outputs": [],
   "source": []
  }
 ],
 "metadata": {
  "kernelspec": {
   "display_name": "Python 3 (ipykernel)",
   "language": "python",
   "name": "python3"
  },
  "language_info": {
   "codemirror_mode": {
    "name": "ipython",
    "version": 3
   },
   "file_extension": ".py",
   "mimetype": "text/x-python",
   "name": "python",
   "nbconvert_exporter": "python",
   "pygments_lexer": "ipython3",
   "version": "3.10.8"
  }
 },
 "nbformat": 4,
 "nbformat_minor": 5
}
